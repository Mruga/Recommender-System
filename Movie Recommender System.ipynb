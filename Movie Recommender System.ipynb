{
 "cells": [
  {
   "cell_type": "code",
   "execution_count": null,
   "metadata": {},
   "outputs": [],
   "source": [
    "import pandas as pd\n",
    "import numpy as np\n",
    "import re\n",
    "import sklearn.metrics.pairwise as pw\n",
    "from scipy import sparse\n",
    "from sklearn.metrics.pairwise import pairwise_distances"
   ]
  },
  {
   "cell_type": "markdown",
   "metadata": {},
   "source": [
    "### Data Loading and Data Cleaning"
   ]
  },
  {
   "cell_type": "code",
   "execution_count": null,
   "metadata": {},
   "outputs": [],
   "source": [
    "movies = pd.read_csv(\"data/movies.csv\")\n",
    "ratings = pd.read_csv('data/ratings.csv')\n",
    "\n",
    "#Importing movies rated by my friends\n",
    "movies_rated = pd.read_excel(\"data/bbianchi.xlsx\",index_col='Movies')\n",
    "\n",
    "movies['movieId'].value_counts().sort_values(ascending=False).head()\n",
    "movies['title'].value_counts().sort_values(ascending=False).head()\n",
    "\n",
    "duplicate_movies = movies.groupby('title').filter(lambda x: len(x) == 2)\n",
    "duplic_ids  = duplicate_movies['movieId'].values\n",
    "duplicate_movies[['movieId','title']]\n",
    "\n",
    "# Checking the id with most reviews\n",
    "review_count = pd.DataFrame(ratings[ratings['movieId'].isin(duplic_ids)]['movieId'].value_counts())\n",
    "review_count.reset_index(inplace=True)\n",
    "review_count.columns = ['movieId','count']\n",
    "\n",
    "duplicated_df = pd.merge(duplicate_movies, review_count, on='movieId')\n",
    "display(duplicated_ids)\n",
    "## Getting duplicates with low review count\n",
    "duplicated_df.sort_values(by=['title','count'],ascending=[True,False])\n",
    "duplicated_ids = duplicated_df.drop_duplicates(subset =\"title\", \n",
    "                     keep = 'last', inplace = False)['movieId']\n",
    "\n",
    "\n",
    "# Removing duplicated ids with low review count from movie database\n",
    "movies = movies.loc[~movies['movieId'].isin(duplicated_ids)]\n",
    "# Removing duplicated ids with low review count from rating database\n",
    "ratings = ratings.loc[~ratings['movieId'].isin(duplicated_ids)]"
   ]
  },
  {
   "cell_type": "markdown",
   "metadata": {},
   "source": [
    "## Unlist the genres to different columns."
   ]
  },
  {
   "cell_type": "code",
   "execution_count": null,
   "metadata": {
    "scrolled": true
   },
   "outputs": [],
   "source": [
    "\n",
    "genres = list(set('|'.join(list(movies[\"genres\"].unique())).split('|')))\n",
    "\n",
    "#Creating dummy columns for each genre\n",
    "for genre in genres:\n",
    "    movies[genre] = movies['genres'].map(lambda val: 1 if genre in val else 0)\n",
    "    \n",
    "#Droping genres\n",
    "movies.drop('genres', axis=1,inplace= True)  \n"
   ]
  },
  {
   "cell_type": "markdown",
   "metadata": {},
   "source": [
    "## Merging Rating and Movies Data Frames"
   ]
  },
  {
   "cell_type": "code",
   "execution_count": null,
   "metadata": {
    "scrolled": true
   },
   "outputs": [],
   "source": [
    "df = pd.merge(ratings, movies, on='movieId')\n"
   ]
  },
  {
   "cell_type": "markdown",
   "metadata": {},
   "source": [
    "## Item-based collaborative recommender"
   ]
  },
  {
   "cell_type": "code",
   "execution_count": null,
   "metadata": {
    "scrolled": true
   },
   "outputs": [],
   "source": [
    "\n",
    "\n",
    "def item_based_recom(input_dataframe,input_film_name):    \n",
    "    pivot_item_based = pd.pivot_table(input_dataframe,\n",
    "                                      index='title',\n",
    "                                      columns=['userId'], values='rating')  \n",
    "    sparse_pivot = sparse.csr_matrix(pivot_item_based.fillna(0))\n",
    "    recommender = pw.cosine_similarity(sparse_pivot)\n",
    "    recommender_df = pd.DataFrame(recommender, \n",
    "                                  columns=pivot_item_based.index,\n",
    "                                  index=pivot_item_based.index)\n",
    "    ## Item Rating Based Cosine Similarity\n",
    "    cosine_df = pd.DataFrame(recommender_df[film_name].sort_values(ascending=False))\n",
    "    cosine_df.reset_index(level=0, inplace=True)\n",
    "    cosine_df.columns = ['title','cosine_sim']\n",
    "    return cosine_df\n",
    "\n",
    "film_name ='Toy Story (1995)' \n",
    "user_id = 1\n",
    "item_based_recom(df,film_name)"
   ]
  },
  {
   "cell_type": "markdown",
   "metadata": {},
   "source": [
    "## Item and Genre-based recommender "
   ]
  },
  {
   "cell_type": "code",
   "execution_count": null,
   "metadata": {},
   "outputs": [],
   "source": [
    "categories = ['Film-Noir', 'Adventure', 'Children',\n",
    "           'IMAX', 'Crime', 'Documentary', 'Fantasy', 'Musical', 'Romance',\n",
    "           'Mystery', 'Thriller', 'Animation', 'Action', 'Comedy', 'War', 'Drama',\n",
    "           'Western', 'Sci-Fi', 'Horror']\n",
    "\n",
    "def item_genre_based_recom(cosine_df,movies_df,categories):    \n",
    "\n",
    "    top_cos_genre = pd.merge(cosine_df, movies, on='title')\n",
    "    # Creating column with genre cosine similarity\n",
    "    top_cos_genre['genre_similarity'] = [pairwise_matrix(top_cos_genre,0,row,categories) \n",
    "                                          for row in top_cos_genre.index.values]\n",
    "    return top_cos_genre[['title','cosine_sim','genre_similarity']]\n",
    "\n",
    "def pairwise_matrix(dataframe,row1, row2,column_names):\n",
    "\n",
    "    matrix_row1 = [[dataframe.loc[row1,cat] for cat in column_names]] \n",
    "    matrix_row2 = [[dataframe.loc[row2,cat] for cat in column_names]] \n",
    "    return round(pw.cosine_similarity(matrix_row1,matrix_row2)[0][0],5)"
   ]
  },
  {
   "cell_type": "markdown",
   "metadata": {},
   "source": [
    "## User based Recommender\n"
   ]
  },
  {
   "cell_type": "code",
   "execution_count": null,
   "metadata": {},
   "outputs": [],
   "source": [
    "def user_based_recom(input_dataframe,input_user_id):    \n",
    "    pivot_user_based = pd.pivot_table(input_dataframe, index='title', columns=['userId'], values='rating').T\n",
    "    sparse_pivot_ub = sparse.csr_matrix(pivot_user_based.fillna(0))\n",
    "    user_recomm = pw.cosine_similarity(sparse_pivot_ub)\n",
    "    user_recomm_df = pd.DataFrame(user_recomm,columns=pivot_user_based.index.values,\n",
    "                 index=pivot_user_based.index.values)\n",
    "    \n",
    "    ## Item Rating Based Cosine Similarity\n",
    "    usr_cosine_df = pd.DataFrame(user_recomm_df[input_user_id].sort_values(ascending=False))\n",
    "    usr_cosine_df.reset_index(level=0, inplace=True)\n",
    "    usr_cosine_df.columns = ['userId','cosine_sim']\n",
    "    return usr_cosine_df"
   ]
  }
 ],
 "metadata": {
  "kernelspec": {
   "display_name": "Python 3",
   "language": "python",
   "name": "python3"
  },
  "language_info": {
   "codemirror_mode": {
    "name": "ipython",
    "version": 3
   },
   "file_extension": ".py",
   "mimetype": "text/x-python",
   "name": "python",
   "nbconvert_exporter": "python",
   "pygments_lexer": "ipython3",
   "version": "3.7.4"
  }
 },
 "nbformat": 4,
 "nbformat_minor": 2
}
